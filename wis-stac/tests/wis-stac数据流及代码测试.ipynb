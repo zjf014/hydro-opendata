{
 "cells": [
  {
   "cell_type": "markdown",
   "id": "51c3d7cc-c37c-4521-89c5-fa91c27134d1",
   "metadata": {},
   "source": [
    "# wis-stac数据流及代码测试"
   ]
  },
  {
   "cell_type": "markdown",
   "id": "411446e7-d636-482d-b8a9-4adf353c1421",
   "metadata": {
    "tags": []
   },
   "source": [
    "## 从minio读数据"
   ]
  },
  {
   "cell_type": "markdown",
   "id": "7d798fd3-4805-4516-8071-d75ba3abe174",
   "metadata": {
    "tags": []
   },
   "source": [
    "如era5、gpm"
   ]
  },
  {
   "cell_type": "markdown",
   "id": "48cf7df3-91f6-4f3c-b4b6-ca2d4e412e04",
   "metadata": {},
   "source": [
    "## 从stac读数据"
   ]
  },
  {
   "cell_type": "markdown",
   "id": "32cb2f74-4fbc-416c-b7f1-a91e4b17c732",
   "metadata": {},
   "source": [
    "如landsat、dem等"
   ]
  },
  {
   "cell_type": "markdown",
   "id": "5d10e2e8-ceab-4bf9-b796-9885c7c7c605",
   "metadata": {},
   "source": [
    "### step 1：加载测试数据，获取数据范围"
   ]
  },
  {
   "cell_type": "code",
   "execution_count": null,
   "id": "0f01a235-65d2-4a4c-858e-3f370cf4b42d",
   "metadata": {
    "tags": []
   },
   "outputs": [],
   "source": [
    "import geopandas as gpd"
   ]
  },
  {
   "cell_type": "code",
   "execution_count": null,
   "id": "1dc64863-3a18-4de3-8763-5cd60e9d9190",
   "metadata": {
    "tags": []
   },
   "outputs": [],
   "source": [
    "gdf = gpd.read_file('test.json')\n",
    "gdf"
   ]
  },
  {
   "cell_type": "code",
   "execution_count": null,
   "id": "af223cc3-c1df-42fc-95bb-891c0b74957a",
   "metadata": {
    "tags": []
   },
   "outputs": [],
   "source": [
    "from leafmap import Map"
   ]
  },
  {
   "cell_type": "code",
   "execution_count": null,
   "id": "0e1c20a8-3f7f-43e9-97f1-d26b35f38f33",
   "metadata": {
    "tags": []
   },
   "outputs": [],
   "source": [
    "m = Map()"
   ]
  },
  {
   "cell_type": "code",
   "execution_count": null,
   "id": "c26fe5bc-6a97-430a-8e6c-1b33993120d9",
   "metadata": {
    "tags": []
   },
   "outputs": [],
   "source": [
    "style = {\n",
    "    \"stroke\": True,\n",
    "    \"color\": \"#CC0000 \",\n",
    "    \"weight\": 2,\n",
    "    \"opacity\": 1,\n",
    "    \"fill\": False,\n",
    "}\n",
    "m.add_gdf(gdf,layer_name='test layer',style=style)\n",
    "m"
   ]
  },
  {
   "cell_type": "code",
   "execution_count": null,
   "id": "fa7224d4-d459-45c0-9f44-e7c39414850c",
   "metadata": {
    "tags": []
   },
   "outputs": [],
   "source": [
    "geom = gdf.geometry[0]\n",
    "geom"
   ]
  },
  {
   "cell_type": "code",
   "execution_count": null,
   "id": "191675e0-244c-4c5c-9bfa-25487d4ef9d1",
   "metadata": {
    "tags": []
   },
   "outputs": [],
   "source": [
    "geom.geom_type"
   ]
  },
  {
   "cell_type": "code",
   "execution_count": null,
   "id": "30830146-508f-45bb-bbbd-f5cbff87219b",
   "metadata": {
    "tags": []
   },
   "outputs": [],
   "source": [
    "x,y = geom.exterior.xy\n",
    "x,y"
   ]
  },
  {
   "cell_type": "code",
   "execution_count": null,
   "id": "6fcb9afb-69ca-4d16-bd9c-f38bf0fe8545",
   "metadata": {
    "tags": []
   },
   "outputs": [],
   "source": [
    "[[i,j] for i,j in zip(x,y) ]"
   ]
  },
  {
   "cell_type": "code",
   "execution_count": null,
   "id": "5291941d-aeea-4dc3-b3a3-5da8f7b54dae",
   "metadata": {
    "tags": []
   },
   "outputs": [],
   "source": [
    "# 构造数据范围的dictionary，方便后面在stac中search\n",
    "bbox_latlon = {\n",
    "    \"type\":f\"{geom.geom_type}\",\n",
    "    \"coordinates\":[[[i,j] for i,j in zip(x,y) ]]\n",
    "}\n",
    "bbox_latlon"
   ]
  },
  {
   "cell_type": "markdown",
   "id": "f86f7b13-dabd-488b-8021-e69989498116",
   "metadata": {},
   "source": [
    "### step 2：通过stac搜索数据，获取items"
   ]
  },
  {
   "cell_type": "markdown",
   "id": "105a512c-4be3-4be9-83b2-af909d29ac3f",
   "metadata": {},
   "source": [
    "如果获取到items，或items的len大于0，则说明通过测试数据范围能够搜索到landsat数据，反之该范围内没有landsat数据"
   ]
  },
  {
   "cell_type": "code",
   "execution_count": null,
   "id": "00561134-50ff-468e-8aa3-0b7edce3a9a6",
   "metadata": {},
   "outputs": [],
   "source": [
    "import planetary_computer as pc\n",
    "import pystac_client"
   ]
  },
  {
   "cell_type": "code",
   "execution_count": null,
   "id": "3bf003e0-3876-44c1-8edf-5bbc7c6e1f19",
   "metadata": {},
   "outputs": [],
   "source": [
    "start_date = \"2021-06-30\"  # Start date of the cube\n",
    "end_date = \"2021-07-01\"  # End date of the cube\n",
    "\n",
    "# aws\n",
    "stac = \"https://earth-search.aws.element84.com/v0\"\n",
    "collection = \"landsat-8-l1-c1\"  # Name of the STAC collection\n",
    "\n",
    "# microsoft planetary computer\n",
    "# stac = \"https://planetarycomputer.microsoft.com/api/stac/v1\"\n",
    "# collection = \"landsat-c2-l2\"  # Name of the STAC collection"
   ]
  },
  {
   "cell_type": "code",
   "execution_count": null,
   "id": "67820a29-dcc5-453a-96f9-8523e74a7d19",
   "metadata": {},
   "outputs": [],
   "source": [
    "# Open the Catalogue\n",
    "CATALOG = pystac_client.Client.open(stac)"
   ]
  },
  {
   "cell_type": "code",
   "execution_count": null,
   "id": "7b8b77ac-0914-4573-8152-1719c069f784",
   "metadata": {},
   "outputs": [],
   "source": [
    "# Do a search\n",
    "SEARCH = CATALOG.search(\n",
    "    intersects=bbox_latlon,\n",
    "    datetime=f\"{start_date}/{end_date}\",\n",
    "    collections=[collection],\n",
    "    # **kwargs,\n",
    ")"
   ]
  },
  {
   "cell_type": "code",
   "execution_count": null,
   "id": "bac487d3-3537-4728-8eeb-559594cac219",
   "metadata": {
    "tags": [],
    "toc-hr-collapsed": true
   },
   "outputs": [],
   "source": [
    "# Get all items and sign if using Planetary Computer\n",
    "items = SEARCH.get_all_items()\n",
    "if stac == \"https://planetarycomputer.microsoft.com/api/stac/v1\":\n",
    "    items = pc.sign(items)\n",
    "items"
   ]
  },
  {
   "cell_type": "code",
   "execution_count": null,
   "id": "779aedb3-cebe-491b-9e85-4c0c6be9f9d7",
   "metadata": {
    "tags": []
   },
   "outputs": [],
   "source": [
    "len(items)"
   ]
  },
  {
   "cell_type": "markdown",
   "id": "3896b165-43f4-499a-953a-7ec222648bda",
   "metadata": {
    "toc-hr-collapsed": true
   },
   "source": [
    "### step 3：测试1条item，获取其范围"
   ]
  },
  {
   "cell_type": "code",
   "execution_count": null,
   "id": "d42ece35-1fa0-4926-a19d-28da1f162493",
   "metadata": {
    "tags": [],
    "toc-hr-collapsed": true
   },
   "outputs": [],
   "source": [
    "item = items[0]\n",
    "item"
   ]
  },
  {
   "cell_type": "code",
   "execution_count": null,
   "id": "9cbef137-4b7e-41fe-9cb5-674ed36066b0",
   "metadata": {
    "tags": []
   },
   "outputs": [],
   "source": [
    "item.id"
   ]
  },
  {
   "cell_type": "code",
   "execution_count": null,
   "id": "6ed77125-bf89-4419-9dd1-42939620d0af",
   "metadata": {
    "tags": []
   },
   "outputs": [],
   "source": [
    "item.bbox"
   ]
  },
  {
   "cell_type": "code",
   "execution_count": null,
   "id": "fd983db7-efca-42ca-99de-7ac2c2d00f03",
   "metadata": {
    "tags": []
   },
   "outputs": [],
   "source": [
    "print(item.datetime)"
   ]
  },
  {
   "cell_type": "code",
   "execution_count": null,
   "id": "97afbc43-2b6c-4ead-b51b-a19039925263",
   "metadata": {
    "tags": []
   },
   "outputs": [],
   "source": [
    "item.geometry"
   ]
  },
  {
   "cell_type": "code",
   "execution_count": null,
   "id": "fa37ec05-bd39-417a-a802-b5f401785abe",
   "metadata": {
    "tags": []
   },
   "outputs": [],
   "source": [
    "item.properties"
   ]
  },
  {
   "cell_type": "code",
   "execution_count": null,
   "id": "6746c543-d2e6-404b-bcd9-476e10e5f620",
   "metadata": {
    "tags": []
   },
   "outputs": [],
   "source": [
    "from shapely.geometry import shape\n",
    "# from shapely.geometry.polygon import Polygon"
   ]
  },
  {
   "cell_type": "code",
   "execution_count": null,
   "id": "547fc868-2dc7-42fc-9654-c479e0c921ec",
   "metadata": {
    "tags": []
   },
   "outputs": [],
   "source": [
    "shape(item.geometry).wkt"
   ]
  },
  {
   "cell_type": "code",
   "execution_count": null,
   "id": "0f721b91-bcf6-4ab8-aa5f-80bfb7d576fb",
   "metadata": {
    "tags": []
   },
   "outputs": [],
   "source": [
    "import pandas as pd"
   ]
  },
  {
   "cell_type": "code",
   "execution_count": null,
   "id": "6b65b5f2-d985-4df3-a630-dda18b13d78c",
   "metadata": {
    "tags": []
   },
   "outputs": [],
   "source": [
    "# 构造一个dataframe，共三列，第一列是遥感影像数据的id，第二列是属性，第三列是遥感影像的范围\n",
    "df = pd.DataFrame(\n",
    "    {\n",
    "        'id':[item.id],\n",
    "        'properties':[item.properties],\n",
    "        'geometry':[shape(item.geometry).wkt]\n",
    "    }\n",
    ")\n",
    "df"
   ]
  },
  {
   "cell_type": "code",
   "execution_count": null,
   "id": "14cc5c4f-541a-4370-b412-031cf176ebc6",
   "metadata": {
    "tags": []
   },
   "outputs": [],
   "source": [
    "df['geometry'] = gpd.GeoSeries.from_wkt(df['geometry'])\n",
    "df"
   ]
  },
  {
   "cell_type": "code",
   "execution_count": null,
   "id": "ca861fa4-186d-4d6d-8229-8f488f0fd5fa",
   "metadata": {
    "tags": []
   },
   "outputs": [],
   "source": [
    "lgdf = gpd.GeoDataFrame(df, geometry='geometry',crs='EPSG:4326')\n",
    "lgdf"
   ]
  },
  {
   "cell_type": "code",
   "execution_count": null,
   "id": "7ce68330-fd5d-4955-829e-290500e48238",
   "metadata": {
    "tags": []
   },
   "outputs": [],
   "source": [
    "lgdf.plot()"
   ]
  },
  {
   "cell_type": "code",
   "execution_count": null,
   "id": "1fc3b4ac-f1e2-4175-bb8a-3f39632a2f83",
   "metadata": {
    "tags": []
   },
   "outputs": [],
   "source": [
    "style = {\n",
    "    \"stroke\": True,\n",
    "    \"color\": \"#0000ff\",\n",
    "    \"weight\": 2,\n",
    "    \"opacity\": 1,\n",
    "    \"fill\": False,\n",
    "    \"fillColor\": \"#0000ff\",\n",
    "    \"fillOpacity\": 0.1,\n",
    "}\n",
    "m.add_gdf(lgdf,layer_name=item.id,style=style)"
   ]
  },
  {
   "cell_type": "code",
   "execution_count": null,
   "id": "04395b76-00b7-498a-8e7a-db0cc16d7d98",
   "metadata": {
    "tags": []
   },
   "outputs": [],
   "source": [
    "m"
   ]
  },
  {
   "cell_type": "markdown",
   "id": "aca36964-d61d-410f-837e-10e32f1aad5b",
   "metadata": {},
   "source": [
    "### step 4：把搜索到的items范围都加上来"
   ]
  },
  {
   "cell_type": "code",
   "execution_count": null,
   "id": "ea57e88f-a6c8-4822-9f9d-1da7479f0507",
   "metadata": {},
   "outputs": [],
   "source": [
    "ids = []\n",
    "properties = []\n",
    "geometries = []\n",
    "for it in items:\n",
    "    ids.append(it.id)\n",
    "    properties.append(it.properties)\n",
    "    geometries.append(shape(it.geometry).wkt)"
   ]
  },
  {
   "cell_type": "code",
   "execution_count": null,
   "id": "ec6a865f-3109-4f6f-9ccd-ac58340f2d4f",
   "metadata": {
    "tags": []
   },
   "outputs": [],
   "source": [
    "dfs = pd.DataFrame(\n",
    "    {\n",
    "        'id': ids,\n",
    "        'properties': properties,\n",
    "        'geometry': geometries\n",
    "    }\n",
    ")\n",
    "dfs"
   ]
  },
  {
   "cell_type": "code",
   "execution_count": null,
   "id": "f435a0f6-6db5-4ac6-bfb6-f5695e711be6",
   "metadata": {
    "tags": []
   },
   "outputs": [],
   "source": [
    "dfs['geometry'] = gpd.GeoSeries.from_wkt(dfs['geometry'])\n",
    "dfs"
   ]
  },
  {
   "cell_type": "code",
   "execution_count": null,
   "id": "9d54f3d7-0d2b-4d6d-bb41-bd917480f662",
   "metadata": {
    "tags": []
   },
   "outputs": [],
   "source": [
    "gdfs = gpd.GeoDataFrame(dfs, geometry='geometry',crs='EPSG:4326')\n",
    "gdfs"
   ]
  },
  {
   "cell_type": "code",
   "execution_count": null,
   "id": "14c6bfed-e824-4824-90c7-f80a9988587b",
   "metadata": {
    "tags": []
   },
   "outputs": [],
   "source": [
    "m.add_gdf(gdfs,layer_name=collection,style=style)\n",
    "m"
   ]
  }
 ],
 "metadata": {
  "kernelspec": {
   "display_name": "Python 3 (wis-stac)",
   "language": "python",
   "name": "wis-stac"
  },
  "language_info": {
   "codemirror_mode": {
    "name": "ipython",
    "version": 3
   },
   "file_extension": ".py",
   "mimetype": "text/x-python",
   "name": "python",
   "nbconvert_exporter": "python",
   "pygments_lexer": "ipython3",
   "version": "3.10.10"
  },
  "toc-showcode": false,
  "toc-showmarkdowntxt": false,
  "toc-showtags": false
 },
 "nbformat": 4,
 "nbformat_minor": 5
}
