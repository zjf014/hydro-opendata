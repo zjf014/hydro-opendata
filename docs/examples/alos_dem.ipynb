{
 "cells": [
  {
   "cell_type": "markdown",
   "id": "59ea05d2-29ed-4234-bfa4-5a5994b6b392",
   "metadata": {},
   "source": [
    "通过pip安装wis-downloader"
   ]
  },
  {
   "cell_type": "code",
   "execution_count": null,
   "id": "092482ff-f8ce-4864-8f2b-698d6f6448df",
   "metadata": {
    "tags": []
   },
   "outputs": [],
   "source": [
    "!pip install wis-downloader"
   ]
  },
  {
   "cell_type": "markdown",
   "id": "0b443ded-9338-4790-a5d0-9dabf02c629b",
   "metadata": {},
   "source": [
    "导入wis_downloader中的alos_dem，注意此处是“_”而不是“-”"
   ]
  },
  {
   "cell_type": "code",
   "execution_count": 1,
   "id": "5001aec2-d2c3-4999-93ca-ee1f7028847e",
   "metadata": {},
   "outputs": [],
   "source": [
    "from wis_downloader import alos_dem"
   ]
  },
  {
   "cell_type": "markdown",
   "id": "e3fefd79-1b7f-4f21-9041-2c8640151047",
   "metadata": {},
   "source": [
    "根据四至范围搜索dem下载链接"
   ]
  },
  {
   "cell_type": "code",
   "execution_count": 2,
   "id": "cbb7db7c-e2bb-446f-9786-49f071badfa8",
   "metadata": {},
   "outputs": [
    {
     "data": {
      "text/plain": [
       "['https://ai4edataeuwest.blob.core.windows.net/alos-dem/AW3D30_global/ALPSMLC30_N039E121_DSM.tif',\n",
       " 'https://ai4edataeuwest.blob.core.windows.net/alos-dem/AW3D30_global/ALPSMLC30_N038E121_DSM.tif',\n",
       " 'https://ai4edataeuwest.blob.core.windows.net/alos-dem/AW3D30_global/ALPSMLC30_N038E120_DSM.tif',\n",
       " 'https://ai4edataeuwest.blob.core.windows.net/alos-dem/AW3D30_global/ALPSMLC30_N037E121_DSM.tif',\n",
       " 'https://ai4edataeuwest.blob.core.windows.net/alos-dem/AW3D30_global/ALPSMLC30_N037E120_DSM.tif']"
      ]
     },
     "execution_count": 2,
     "metadata": {},
     "output_type": "execute_result"
    }
   ],
   "source": [
    "hrefs=alos_dem.search(bbox=[121,38,121.5,39])\n",
    "hrefs"
   ]
  },
  {
   "cell_type": "markdown",
   "id": "d93bf7c1-2ba3-496d-b268-af3714ee593b",
   "metadata": {},
   "source": [
    "下载href中的链接"
   ]
  },
  {
   "cell_type": "code",
   "execution_count": 3,
   "id": "52c3ea03-2524-44e6-a298-866371bdf0a0",
   "metadata": {},
   "outputs": [
    {
     "name": "stderr",
     "output_type": "stream",
     "text": [
      "下载文件 ./ALPSMLC30_N039E121_DSM.tif: 6848200it [00:03, 2173676.15it/s]                                            \n",
      "下载文件 ./ALPSMLC30_N038E121_DSM.tif: 1954100it [00:04, 474191.61it/s]                                             \n",
      "下载文件 ./ALPSMLC30_N038E120_DSM.tif: 177700it [00:00, 212906.40it/s]                                              \n",
      "下载文件 ./ALPSMLC30_N037E121_DSM.tif: 9446100it [00:04, 2186564.31it/s]                                            \n",
      "下载文件 ./ALPSMLC30_N037E120_DSM.tif: 11395900it [00:07, 1444100.57it/s]                                           \n"
     ]
    }
   ],
   "source": [
    "alos_dem.download(save_dir='.')"
   ]
  },
  {
   "cell_type": "markdown",
   "id": "b275bd90-ece2-487f-a11b-7118898da79b",
   "metadata": {},
   "source": [
    "或者使用downloader中的方法下载hrefs中的某一个dem链接"
   ]
  },
  {
   "cell_type": "code",
   "execution_count": 4,
   "id": "d91994a8-b3cd-4807-bb9e-ac441d0b3a2c",
   "metadata": {},
   "outputs": [],
   "source": [
    "from wis_downloader import downloader"
   ]
  },
  {
   "cell_type": "code",
   "execution_count": 5,
   "id": "cf4a328b-713f-47b0-a60d-a1c5f6fc96c1",
   "metadata": {},
   "outputs": [
    {
     "name": "stderr",
     "output_type": "stream",
     "text": [
      "下载文件 dem.tif: 6848200it [00:04, 1596053.23it/s]                                                                 \n"
     ]
    }
   ],
   "source": [
    "downloader.download_sigletasking(url=hrefs[0],file_name='dem.tif')"
   ]
  }
 ],
 "metadata": {
  "kernelspec": {
   "display_name": "Python 3 (ipykernel)",
   "language": "python",
   "name": "python3"
  },
  "language_info": {
   "codemirror_mode": {
    "name": "ipython",
    "version": 3
   },
   "file_extension": ".py",
   "mimetype": "text/x-python",
   "name": "python",
   "nbconvert_exporter": "python",
   "pygments_lexer": "ipython3",
   "version": "3.9.12"
  }
 },
 "nbformat": 4,
 "nbformat_minor": 5
}
