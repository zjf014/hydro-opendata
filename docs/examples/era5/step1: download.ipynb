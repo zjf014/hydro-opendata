{
 "cells": [
  {
   "attachments": {},
   "cell_type": "markdown",
   "id": "c39a556c",
   "metadata": {},
   "source": [
    "# 准备工作："
   ]
  },
  {
   "attachments": {},
   "cell_type": "markdown",
   "id": "c422fb69",
   "metadata": {},
   "source": [
    "1. 注册账户获取key\n",
    "\n",
    "网址：[https://cds.climate.copernicus.eu/#!/home](https://cds.climate.copernicus.eu/#!/home)"
   ]
  },
  {
   "attachments": {},
   "cell_type": "markdown",
   "id": "62c5f0ef",
   "metadata": {},
   "source": [
    "2. 将url和key先存储在txt文件中"
   ]
  },
  {
   "cell_type": "code",
   "execution_count": null,
   "id": "e623e0a2",
   "metadata": {},
   "outputs": [],
   "source": [
    "import os"
   ]
  },
  {
   "cell_type": "code",
   "execution_count": null,
   "id": "eeeac91e-7947-48c9-8c02-45cbdeb077ba",
   "metadata": {},
   "outputs": [],
   "source": [
    "home_path = os.path.expanduser('~')\n",
    "if not os.path.isfile(os.path.join(home_path,'.cdsapirc')):\n",
    "    print(os.path.join(home_path,'.cdsapirc'))\n",
    "    f=open(os.path.join(home_path,'.cdsapirc'),'w')\n",
    "    f.write('url: https://cds.climate.copernicus.eu/api/v2\\nkey: {填入你的key}')\n",
    "    f.close()"
   ]
  },
  {
   "attachments": {},
   "cell_type": "markdown",
   "id": "3ff22299",
   "metadata": {},
   "source": [
    "# 安装cdsapi"
   ]
  },
  {
   "cell_type": "code",
   "execution_count": null,
   "id": "3b5c8af4",
   "metadata": {},
   "outputs": [],
   "source": [
    "!pip install cdsapi"
   ]
  },
  {
   "attachments": {},
   "cell_type": "markdown",
   "id": "63d0f0a6",
   "metadata": {},
   "source": [
    "# 下载ERA5-Land数据"
   ]
  },
  {
   "cell_type": "code",
   "execution_count": null,
   "id": "a3326231-dc83-41d6-b570-de95137248e6",
   "metadata": {},
   "outputs": [],
   "source": [
    "# coding=utf-8\n",
    "import cdsapi"
   ]
  },
  {
   "cell_type": "code",
   "execution_count": null,
   "id": "4395a5d5-b173-414c-b4e2-753b7b824ba5",
   "metadata": {},
   "outputs": [],
   "source": [
    "c = cdsapi.Client()"
   ]
  },
  {
   "cell_type": "code",
   "execution_count": null,
   "id": "93277dde-9b88-4126-9483-a4310968e820",
   "metadata": {},
   "outputs": [],
   "source": [
    "for year in range(2022, 2023):\n",
    "    for month in range(1, 13):\n",
    "        for day in range(1,32):\n",
    "            outpath = f'./data/era5_land/{str(year)}/{str(month).zfill(2)}/{str(day).zfill(2)}.nc'\n",
    "            if os.path.exists(outpath):\n",
    "                print(f\"{outpath} was downloaded!\")\n",
    "                continue\n",
    "            \n",
    "            dirpath = os.path.dirname(outpath)\n",
    "            if not os.path.exists(dirpath):\n",
    "                os.makedirs(dirpath)\n",
    "                \n",
    "            c.retrieve(\n",
    "                'reanalysis-era5-land',\n",
    "                {\n",
    "                    'year': str(year),\n",
    "                    'month': str(month).zfill(2),\n",
    "                    'day': str(day).zfill(2),\n",
    "                    'variable': [\n",
    "                        '10m_u_component_of_wind', '10m_v_component_of_wind', '2m_dewpoint_temperature',\n",
    "                        '2m_temperature', 'evaporation_from_bare_soil', 'evaporation_from_open_water_surfaces_excluding_oceans',\n",
    "                        'evaporation_from_the_top_of_canopy', 'evaporation_from_vegetation_transpiration', 'forecast_albedo',\n",
    "                        'lake_bottom_temperature', 'lake_ice_depth', 'lake_ice_temperature',\n",
    "                        'lake_mix_layer_depth', 'lake_mix_layer_temperature', 'lake_shape_factor',\n",
    "                        'lake_total_layer_temperature', 'leaf_area_index_high_vegetation', 'leaf_area_index_low_vegetation',\n",
    "                        'potential_evaporation', 'runoff', 'skin_reservoir_content',\n",
    "                        'skin_temperature', 'snow_albedo', 'snow_cover',\n",
    "                        'snow_density', 'snow_depth', 'snow_depth_water_equivalent',\n",
    "                        'snow_evaporation', 'snowfall', 'snowmelt',\n",
    "                        'soil_temperature_level_1', 'soil_temperature_level_2', 'soil_temperature_level_3',\n",
    "                        'soil_temperature_level_4', 'sub_surface_runoff', 'surface_latent_heat_flux',\n",
    "                        'surface_net_solar_radiation', 'surface_net_thermal_radiation', 'surface_pressure',\n",
    "                        'surface_runoff', 'surface_sensible_heat_flux', 'surface_solar_radiation_downwards',\n",
    "                        'surface_thermal_radiation_downwards', 'temperature_of_snow_layer', 'total_evaporation',\n",
    "                        'total_precipitation', 'volumetric_soil_water_layer_1', 'volumetric_soil_water_layer_2',\n",
    "                        'volumetric_soil_water_layer_3', 'volumetric_soil_water_layer_4',\n",
    "                    ],\n",
    "                    'time': [\n",
    "                        '00:00', '01:00', '02:00',\n",
    "                        '03:00', '04:00', '05:00',\n",
    "                        '06:00', '07:00', '08:00',\n",
    "                        '09:00', '10:00', '11:00',\n",
    "                        '12:00', '13:00', '14:00',\n",
    "                        '15:00', '16:00', '17:00',\n",
    "                        '18:00', '19:00', '20:00',\n",
    "                        '21:00', '22:00', '23:00',\n",
    "                    ],\n",
    "                    'area': [\n",
    "                        54, 115, 38,\n",
    "                        136,\n",
    "                    ],\n",
    "                    'format': 'netcdf',\n",
    "                },\n",
    "                outpath)\n",
    "            \n",
    "            print(f\"{outpath} was downloaded!\")"
   ]
  }
 ],
 "metadata": {
  "kernelspec": {
   "display_name": "downloader",
   "language": "python",
   "name": "python3"
  },
  "language_info": {
   "codemirror_mode": {
    "name": "ipython",
    "version": 3
   },
   "file_extension": ".py",
   "mimetype": "text/x-python",
   "name": "python",
   "nbconvert_exporter": "python",
   "pygments_lexer": "ipython3",
   "version": "3.9.12"
  },
  "vscode": {
   "interpreter": {
    "hash": "b6877f4affe0a74f441109881bac79a838a4ae0098a1d805dcdadad2f8fa8ec7"
   }
  }
 },
 "nbformat": 4,
 "nbformat_minor": 5
}
