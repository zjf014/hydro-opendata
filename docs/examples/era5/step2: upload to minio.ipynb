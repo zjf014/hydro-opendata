{
 "cells": [
  {
   "attachments": {},
   "cell_type": "markdown",
   "metadata": {},
   "source": [
    "# 准备工作"
   ]
  },
  {
   "attachments": {},
   "cell_type": "markdown",
   "metadata": {},
   "source": [
    "1. 注册minio账户\n",
    "\n",
    "网址：[http://minio.waterism.com:9090/](http://minio.waterism.com:9090/)，注册需要联系管理员\n",
    "\n",
    "2. 创建bucket或使用已有的bucket\n",
    "3. 创建service account，获取access key和secret key"
   ]
  },
  {
   "attachments": {},
   "cell_type": "markdown",
   "metadata": {},
   "source": [
    "# 安装minio"
   ]
  },
  {
   "attachments": {},
   "cell_type": "markdown",
   "metadata": {},
   "source": [
    "!pip install minio"
   ]
  },
  {
   "attachments": {},
   "cell_type": "markdown",
   "metadata": {},
   "source": [
    "# 上传数据"
   ]
  },
  {
   "cell_type": "code",
   "execution_count": null,
   "metadata": {},
   "outputs": [],
   "source": [
    "from minio import Minio"
   ]
  },
  {
   "cell_type": "code",
   "execution_count": null,
   "metadata": {},
   "outputs": [],
   "source": [
    "minioClient = Minio('minio.waterism.com:9000',\n",
    "                    access_key='{minio的access_key}',\n",
    "                    secret_key='{minio的secret_key}',\n",
    "                    secure=False)"
   ]
  },
  {
   "cell_type": "code",
   "execution_count": null,
   "metadata": {},
   "outputs": [],
   "source": [
    "bucket_name = 'bucket_name'\n",
    "minio_path = '/era5_land/2021/01/01.nc'\n",
    "local_path = '/ftproot/geodata/era5_land/2021/01/01.nc'"
   ]
  },
  {
   "cell_type": "code",
   "execution_count": null,
   "metadata": {},
   "outputs": [],
   "source": [
    "try:\n",
    "    print(\n",
    "        minioClient.fput_object(\n",
    "            bucket_name, \n",
    "            minio_path, \n",
    "            local_path\n",
    "        )\n",
    "    )\n",
    "except Exception as err:\n",
    "    print(err)"
   ]
  }
 ],
 "metadata": {
  "kernelspec": {
   "display_name": "Python 3",
   "language": "python",
   "name": "python3"
  },
  "language_info": {
   "name": "python",
   "version": "3.9.6"
  },
  "orig_nbformat": 4,
  "vscode": {
   "interpreter": {
    "hash": "31f2aee4e71d21fbe5cf8b01ff0e069b9275f58929596ceb00d14d90e3e16cd6"
   }
  }
 },
 "nbformat": 4,
 "nbformat_minor": 2
}
