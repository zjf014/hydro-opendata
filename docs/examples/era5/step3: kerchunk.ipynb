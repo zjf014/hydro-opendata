{
 "cells": [
  {
   "attachments": {},
   "cell_type": "markdown",
   "metadata": {},
   "source": [
    "目前阶段，era5数据在minio仍然以文件的形式存储。\n",
    "\n",
    "**存在问题：**\n",
    "1. 如果文件很大读取效率低。\n",
    "2. 跨文件读取不方便；\n",
    "\n",
    "\n",
    "**解决思路：**写块（chunk）\n",
    "\n",
    "**实现目标：**将数据转化为[zarr](https://zarr.readthedocs.io/en/stable/)格式\n",
    "\n",
    "**实现方法：**使用[kerchunk](https://fsspec.github.io/kerchunk/)"
   ]
  },
  {
   "attachments": {},
   "cell_type": "markdown",
   "metadata": {},
   "source": [
    "# 关于kerchunk"
   ]
  },
  {
   "attachments": {},
   "cell_type": "markdown",
   "metadata": {},
   "source": [
    "简单说，能够更高效地读取本地或s3（如minio）上的部分格式（如NetCDF/HDF5, GRIB2, TIFF, …）的数据（解决问题1），并且能够跨文件创建虚拟数据集（解决问题2）。"
   ]
  },
  {
   "attachments": {},
   "cell_type": "markdown",
   "metadata": {},
   "source": [
    "# 安装kerchunk"
   ]
  },
  {
   "cell_type": "code",
   "execution_count": null,
   "metadata": {},
   "outputs": [],
   "source": [
    "!pip install git+https://github.com/fsspec/kerchunk"
   ]
  },
  {
   "attachments": {},
   "cell_type": "markdown",
   "metadata": {},
   "source": [
    "# 生成JSON文件\n",
    "将minio上的每个era5文件分块，并生成对应的json文件"
   ]
  },
  {
   "cell_type": "code",
   "execution_count": null,
   "metadata": {},
   "outputs": [],
   "source": [
    "import kerchunk.netCDF3\n",
    "import fsspec\n",
    "import s3fs"
   ]
  },
  {
   "cell_type": "code",
   "execution_count": null,
   "metadata": {},
   "outputs": [],
   "source": [
    "access_key='{minio的access_key}'\n",
    "secret_key='{minio的secret_key}'\n",
    "storage_options = {\n",
    "    'client_kwargs': {'endpoint_url': 'http://minio.waterism.com:9000'}, \n",
    "    'key': access_key, \n",
    "    'secret': secret_key\n",
    "}"
   ]
  },
  {
   "attachments": {},
   "cell_type": "markdown",
   "metadata": {},
   "source": [
    "读取minio上的era5文件"
   ]
  },
  {
   "cell_type": "code",
   "execution_count": null,
   "metadata": {},
   "outputs": [],
   "source": [
    "fs = s3fs.S3FileSystem(client_kwargs={\"endpoint_url\": \"http://minio.waterism.com:9000\"}, key=access_key, secret=secret_key)\n",
    "fs"
   ]
  },
  {
   "cell_type": "code",
   "execution_count": null,
   "metadata": {},
   "outputs": [],
   "source": [
    "flist = fs.glob('watermodel-pub/geodata/era5_land/*/*/*.nc')\n",
    "flist"
   ]
  },
  {
   "attachments": {},
   "cell_type": "markdown",
   "metadata": {},
   "source": [
    "将每个era5对应的nc文件写块并生成对应json文件"
   ]
  },
  {
   "cell_type": "code",
   "execution_count": null,
   "metadata": {},
   "outputs": [],
   "source": [
    "from pathlib import Path\n",
    "import os\n",
    "import ujson"
   ]
  },
  {
   "cell_type": "code",
   "execution_count": null,
   "metadata": {},
   "outputs": [],
   "source": [
    "def gen_json(file_url):\n",
    "    h5chunks = kerchunk.netCDF3.netcdf_recording_file('s3://'+file_url, storage_options=storage_options)\n",
    "\n",
    "    outf = file_url[:-3] + '.json' #file name to save json to\n",
    "    outf = outf.replace('watermodel-pub', 'test')\n",
    "    with fs.open(outf, 'wb') as f:\n",
    "        f.write(ujson.dumps(h5chunks.translate()).encode());"
   ]
  },
  {
   "cell_type": "code",
   "execution_count": null,
   "metadata": {},
   "outputs": [],
   "source": [
    "%%time\n",
    "for file in flist:\n",
    "    gen_json(file)"
   ]
  },
  {
   "attachments": {},
   "cell_type": "markdown",
   "metadata": {},
   "source": [
    "通过读取json文件获得era5数据，读取效率更高"
   ]
  },
  {
   "cell_type": "code",
   "execution_count": null,
   "metadata": {},
   "outputs": [],
   "source": [
    "import xarray as xr"
   ]
  },
  {
   "cell_type": "code",
   "execution_count": null,
   "metadata": {},
   "outputs": [],
   "source": [
    "%%time\n",
    "ds = xr.open_dataset(\n",
    "    \"reference://\", \n",
    "    engine=\"zarr\", \n",
    "    backend_kwargs={\n",
    "        \"consolidated\": False,\n",
    "        \"storage_options\": {\"fo\": fs.open('s3://test/geodata/era5_land/2021/01/01.json'), \n",
    "                            \"remote_protocol\": \"s3\",\n",
    "                            \"remote_options\": storage_options\n",
    "                            }\n",
    "                    }\n",
    "    )\n",
    "ds"
   ]
  },
  {
   "attachments": {},
   "cell_type": "markdown",
   "metadata": {},
   "source": [
    "# 创建多文件数据集\n",
    "通过合并json文件生成包含多文件数据集的json文件"
   ]
  },
  {
   "cell_type": "code",
   "execution_count": null,
   "metadata": {},
   "outputs": [],
   "source": [
    "from kerchunk.combine import MultiZarrToZarr"
   ]
  },
  {
   "attachments": {},
   "cell_type": "markdown",
   "metadata": {},
   "source": [
    "获取多个单文件json"
   ]
  },
  {
   "cell_type": "code",
   "execution_count": null,
   "metadata": {},
   "outputs": [],
   "source": [
    "json_list = fs.glob(\"test/geodata/era5_land/*/*/*.json\")\n",
    "json_list = ['s3://'+str for str in json_list]\n",
    "json_list"
   ]
  },
  {
   "attachments": {},
   "cell_type": "markdown",
   "metadata": {},
   "source": [
    "合并多个json形成多文件json"
   ]
  },
  {
   "cell_type": "code",
   "execution_count": null,
   "metadata": {},
   "outputs": [],
   "source": [
    "mzz = MultiZarrToZarr(\n",
    "    json_list,\n",
    "    target_options = storage_options,\n",
    "    remote_protocol = 's3',\n",
    "    remote_options = storage_options,\n",
    "    concat_dims = ['time'],\n",
    "    identical_dims = ['latitude', 'longitude'])\n",
    "\n",
    "d = mzz.translate()\n",
    "\n",
    "with fs.open('s3://test/geodata/era5_land/era5_land.json', 'wb') as f:\n",
    "    f.write(ujson.dumps(d).encode())"
   ]
  },
  {
   "attachments": {},
   "cell_type": "markdown",
   "metadata": {},
   "source": [
    "跨文件读取数据"
   ]
  },
  {
   "cell_type": "code",
   "execution_count": null,
   "metadata": {},
   "outputs": [],
   "source": [
    "%%time\n",
    "ds = xr.open_dataset(\"reference://\", engine=\"zarr\", backend_kwargs={\n",
    "                    \"consolidated\": False,\n",
    "                    \"storage_options\": {\"fo\": fs.open('s3://test/geodata/era5_land/era5_land.json'), \"remote_protocol\": \"s3\",\"remote_options\": {'client_kwargs': {'endpoint_url': 'http://minio.waterism.com:9000'}, 'key': 'JKhbLNL0jNKqbjn4', 'secret': '0RDubDRBIrC2WOHAP4nHtYP28TXtVj8H'}}}\n",
    "                    )\n",
    "ds"
   ]
  }
 ],
 "metadata": {
  "kernelspec": {
   "display_name": "Python 3",
   "language": "python",
   "name": "python3"
  },
  "language_info": {
   "name": "python",
   "version": "3.9.6"
  },
  "orig_nbformat": 4,
  "vscode": {
   "interpreter": {
    "hash": "31f2aee4e71d21fbe5cf8b01ff0e069b9275f58929596ceb00d14d90e3e16cd6"
   }
  }
 },
 "nbformat": 4,
 "nbformat_minor": 2
}
