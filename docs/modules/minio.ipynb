{
 "cells": [
  {
   "cell_type": "markdown",
   "id": "4ae463ae-d4d0-4a52-bc85-18fd7cd00a92",
   "metadata": {
    "tags": []
   },
   "source": [
    "# stac"
   ]
  },
  {
   "cell_type": "code",
   "execution_count": 1,
   "id": "1b7bab26-2709-4c55-bbb5-052590437791",
   "metadata": {
    "tags": []
   },
   "outputs": [],
   "source": [
    "from hydro_opendata.stac.minio import Era5_land, GPM_IMERG_Early, GFS_atmos\n",
    "import geopandas as gpd"
   ]
  },
  {
   "cell_type": "code",
   "execution_count": 2,
   "id": "4be5a3de-d94a-400e-9246-0e43bcf58bc5",
   "metadata": {
    "tags": []
   },
   "outputs": [
    {
     "data": {
      "text/html": [
       "<div>\n",
       "<style scoped>\n",
       "    .dataframe tbody tr th:only-of-type {\n",
       "        vertical-align: middle;\n",
       "    }\n",
       "\n",
       "    .dataframe tbody tr th {\n",
       "        vertical-align: top;\n",
       "    }\n",
       "\n",
       "    .dataframe thead th {\n",
       "        text-align: right;\n",
       "    }\n",
       "</style>\n",
       "<table border=\"1\" class=\"dataframe\">\n",
       "  <thead>\n",
       "    <tr style=\"text-align: right;\">\n",
       "      <th></th>\n",
       "      <th>id</th>\n",
       "      <th>geometry</th>\n",
       "    </tr>\n",
       "  </thead>\n",
       "  <tbody>\n",
       "    <tr>\n",
       "      <th>0</th>\n",
       "      <td>0</td>\n",
       "      <td>MULTIPOLYGON (((122.44241 39.80139, 122.39342 ...</td>\n",
       "    </tr>\n",
       "  </tbody>\n",
       "</table>\n",
       "</div>"
      ],
      "text/plain": [
       "   id                                           geometry\n",
       "0   0  MULTIPOLYGON (((122.44241 39.80139, 122.39342 ..."
      ]
     },
     "execution_count": 2,
     "metadata": {},
     "output_type": "execute_result"
    }
   ],
   "source": [
    "aoi = gpd.read_file('test.geojson')\n",
    "aoi"
   ]
  },
  {
   "cell_type": "code",
   "execution_count": 3,
   "id": "ff8c66cb-c8cf-480e-ab58-3a46ea6fd7a8",
   "metadata": {
    "tags": []
   },
   "outputs": [
    {
     "data": {
      "text/html": [
       "<div>\n",
       "<style scoped>\n",
       "    .dataframe tbody tr th:only-of-type {\n",
       "        vertical-align: middle;\n",
       "    }\n",
       "\n",
       "    .dataframe tbody tr th {\n",
       "        vertical-align: top;\n",
       "    }\n",
       "\n",
       "    .dataframe thead th {\n",
       "        text-align: right;\n",
       "    }\n",
       "</style>\n",
       "<table border=\"1\" class=\"dataframe\">\n",
       "  <thead>\n",
       "    <tr style=\"text-align: right;\">\n",
       "      <th></th>\n",
       "      <th>id</th>\n",
       "      <th>start_time</th>\n",
       "      <th>end_time</th>\n",
       "      <th>geometry</th>\n",
       "    </tr>\n",
       "  </thead>\n",
       "  <tbody>\n",
       "    <tr>\n",
       "      <th>0</th>\n",
       "      <td>era5-land</td>\n",
       "      <td>2015-07-01</td>\n",
       "      <td>2022-12-31 23:00:00</td>\n",
       "      <td>POLYGON ((122.39342 39.81027, 122.31744 39.833...</td>\n",
       "    </tr>\n",
       "  </tbody>\n",
       "</table>\n",
       "</div>"
      ],
      "text/plain": [
       "          id start_time            end_time  \\\n",
       "0  era5-land 2015-07-01 2022-12-31 23:00:00   \n",
       "\n",
       "                                            geometry  \n",
       "0  POLYGON ((122.39342 39.81027, 122.31744 39.833...  "
      ]
     },
     "execution_count": 3,
     "metadata": {},
     "output_type": "execute_result"
    }
   ],
   "source": [
    "era5 = Era5_land()\n",
    "e = era5.search(aoi=aoi)\n",
    "e"
   ]
  },
  {
   "cell_type": "code",
   "execution_count": 4,
   "id": "1c954bf9-a526-49dc-9882-f8f04e743ac0",
   "metadata": {
    "tags": []
   },
   "outputs": [
    {
     "data": {
      "text/html": [
       "<div>\n",
       "<style scoped>\n",
       "    .dataframe tbody tr th:only-of-type {\n",
       "        vertical-align: middle;\n",
       "    }\n",
       "\n",
       "    .dataframe tbody tr th {\n",
       "        vertical-align: top;\n",
       "    }\n",
       "\n",
       "    .dataframe thead th {\n",
       "        text-align: right;\n",
       "    }\n",
       "</style>\n",
       "<table border=\"1\" class=\"dataframe\">\n",
       "  <thead>\n",
       "    <tr style=\"text-align: right;\">\n",
       "      <th></th>\n",
       "      <th>id</th>\n",
       "      <th>start_time</th>\n",
       "      <th>end_time</th>\n",
       "      <th>geometry</th>\n",
       "    </tr>\n",
       "  </thead>\n",
       "  <tbody>\n",
       "    <tr>\n",
       "      <th>0</th>\n",
       "      <td>gpm-imerg-early</td>\n",
       "      <td>2016-01-01</td>\n",
       "      <td>2023-08-30 00:30:00</td>\n",
       "      <td>POLYGON ((122.39342 39.81027, 122.31744 39.833...</td>\n",
       "    </tr>\n",
       "  </tbody>\n",
       "</table>\n",
       "</div>"
      ],
      "text/plain": [
       "                id start_time            end_time  \\\n",
       "0  gpm-imerg-early 2016-01-01 2023-08-30 00:30:00   \n",
       "\n",
       "                                            geometry  \n",
       "0  POLYGON ((122.39342 39.81027, 122.31744 39.833...  "
      ]
     },
     "execution_count": 4,
     "metadata": {},
     "output_type": "execute_result"
    }
   ],
   "source": [
    "gpm = GPM_IMERG_Early()\n",
    "g = gpm.search(aoi=aoi)\n",
    "g"
   ]
  },
  {
   "cell_type": "code",
   "execution_count": 5,
   "id": "6decb1ce-486b-40c1-bc04-b389373f7784",
   "metadata": {
    "tags": []
   },
   "outputs": [
    {
     "data": {
      "text/html": [
       "<div>\n",
       "<style scoped>\n",
       "    .dataframe tbody tr th:only-of-type {\n",
       "        vertical-align: middle;\n",
       "    }\n",
       "\n",
       "    .dataframe tbody tr th {\n",
       "        vertical-align: top;\n",
       "    }\n",
       "\n",
       "    .dataframe thead th {\n",
       "        text-align: right;\n",
       "    }\n",
       "</style>\n",
       "<table border=\"1\" class=\"dataframe\">\n",
       "  <thead>\n",
       "    <tr style=\"text-align: right;\">\n",
       "      <th></th>\n",
       "      <th>id</th>\n",
       "      <th>start_time</th>\n",
       "      <th>end_time</th>\n",
       "      <th>geometry</th>\n",
       "    </tr>\n",
       "  </thead>\n",
       "  <tbody>\n",
       "    <tr>\n",
       "      <th>1</th>\n",
       "      <td>gfs_atmos.tp</td>\n",
       "      <td>2022-09-01</td>\n",
       "      <td>2023-08-30 00:00:00</td>\n",
       "      <td>POLYGON ((122.39342 39.81027, 122.31744 39.833...</td>\n",
       "    </tr>\n",
       "    <tr>\n",
       "      <th>0</th>\n",
       "      <td>gfs_atmos.tp</td>\n",
       "      <td>2016-07-10</td>\n",
       "      <td>2022-08-31 18:00:00</td>\n",
       "      <td>POLYGON ((122.39342 39.81027, 122.31744 39.833...</td>\n",
       "    </tr>\n",
       "  </tbody>\n",
       "</table>\n",
       "</div>"
      ],
      "text/plain": [
       "             id start_time            end_time  \\\n",
       "1  gfs_atmos.tp 2022-09-01 2023-08-30 00:00:00   \n",
       "0  gfs_atmos.tp 2016-07-10 2022-08-31 18:00:00   \n",
       "\n",
       "                                            geometry  \n",
       "1  POLYGON ((122.39342 39.81027, 122.31744 39.833...  \n",
       "0  POLYGON ((122.39342 39.81027, 122.31744 39.833...  "
      ]
     },
     "execution_count": 5,
     "metadata": {},
     "output_type": "execute_result"
    }
   ],
   "source": [
    "gfs = GFS_atmos('tp')\n",
    "f = gfs.search(aoi=aoi)\n",
    "f"
   ]
  },
  {
   "cell_type": "code",
   "execution_count": 6,
   "id": "44fa2541-c1a2-46d3-a5bf-b4fb213ea2ee",
   "metadata": {
    "tags": []
   },
   "outputs": [],
   "source": [
    "from leafmap import Map"
   ]
  },
  {
   "cell_type": "code",
   "execution_count": 7,
   "id": "7bf8d15d-d279-4d2f-8c1c-0fb43bf2f6ef",
   "metadata": {
    "tags": []
   },
   "outputs": [],
   "source": [
    "m = Map()"
   ]
  },
  {
   "cell_type": "code",
   "execution_count": 8,
   "id": "c5c2a6d1-3f09-4075-90a9-2a0a26f357ea",
   "metadata": {
    "tags": []
   },
   "outputs": [],
   "source": [
    "m.add_gdf(e)\n",
    "# m.add_gdf(f)\n",
    "# m.add_gdf(g)"
   ]
  },
  {
   "cell_type": "code",
   "execution_count": 9,
   "id": "4f44cd67-3792-4a44-966b-4e0e1f811c99",
   "metadata": {
    "tags": []
   },
   "outputs": [
    {
     "data": {
      "application/vnd.jupyter.widget-view+json": {
       "model_id": "39c95d3a9d164bdc902545d38044e52b",
       "version_major": 2,
       "version_minor": 0
      },
      "text/plain": [
       "Map(center=[40.00107878706825, 122.52224403745379], controls=(AttributionControl(options=['position', 'prefix'…"
      ]
     },
     "metadata": {},
     "output_type": "display_data"
    }
   ],
   "source": [
    "m"
   ]
  }
 ],
 "metadata": {
  "kernelspec": {
   "display_name": "Python 3 (dev-env)",
   "language": "python",
   "name": "dev-env"
  },
  "language_info": {
   "codemirror_mode": {
    "name": "ipython",
    "version": 3
   },
   "file_extension": ".py",
   "mimetype": "text/x-python",
   "name": "python",
   "nbconvert_exporter": "python",
   "pygments_lexer": "ipython3",
   "version": "3.10.12"
  }
 },
 "nbformat": 4,
 "nbformat_minor": 5
}
